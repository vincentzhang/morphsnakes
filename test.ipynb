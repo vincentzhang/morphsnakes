{
 "cells": [
  {
   "cell_type": "markdown",
   "metadata": {},
   "source": [
    "# This is a script for demostrating how Morphorlogical Geodesic Active Contour algorithm works."
   ]
  },
  {
   "cell_type": "code",
   "execution_count": 2,
   "metadata": {
    "collapsed": false
   },
   "outputs": [],
   "source": [
    "import morphsnakes\n",
    "\n",
    "import numpy as np\n",
    "from scipy.misc import imread\n",
    "from matplotlib import pyplot as ppl"
   ]
  },
  {
   "cell_type": "code",
   "execution_count": null,
   "metadata": {
    "collapsed": false,
    "scrolled": true
   },
   "outputs": [
    {
     "name": "stdout",
     "output_type": "stream",
     "text": [
      "\n",
      "> <ipython-input-6-cb2b2b448cd1>(14)circle_levelset()\n",
      "-> phi = sqradius - np.sqrt(np.sum((grid.T)**2, 0))\n",
      "(Pdb) n\n",
      "> <ipython-input-6-cb2b2b448cd1>(16)circle_levelset()\n",
      "-> u = np.float_(phi > 0)\n",
      "(Pdb) print u.shape\n",
      "*** NameError: name 'u' is not defined\n",
      "(Pdb) n\n",
      "> <ipython-input-6-cb2b2b448cd1>(18)circle_levelset()\n",
      "-> return u\n",
      "(Pdb) print u.shape\n",
      "(323, 275)\n"
     ]
    }
   ],
   "source": [
    "%matplotlib inline \n",
    "import pdb\n",
    "\n",
    "def rgb2gray(img):\n",
    "    \"\"\"Convert a RGB image to gray scale.\"\"\"\n",
    "    return 0.2989*img[:,:,0] + 0.587*img[:,:,1] + 0.114*img[:,:,2]\n",
    "\n",
    "def circle_levelset(shape, center, sqradius, scalerow=1.0):\n",
    "    \"\"\"Build a binary function with a circle as the 0.5-levelset.\"\"\"\n",
    "    # scalerow is not used here\n",
    "    grid = np.mgrid[list(map(slice, shape))].T - center\n",
    "    #pdb.set_trace()\n",
    "    #print \"grid is \", grid\n",
    "    #print \"sqradius = %f\" % sqradius\n",
    "    phi = sqradius - np.sqrt(np.sum((grid.T)**2, 0))\n",
    "    #print \"phi is \", phi\n",
    "    u = np.float_(phi > 0)\n",
    "    #print \"u is \", u\n",
    "    return u\n",
    "\n",
    "def test_starfish(alpha=1000,sigma=2,fig=1):\n",
    "    # Load the image.\n",
    "    imgcolor = imread(\"testimages/seastar2.png\")/255.0\n",
    "    img = rgb2gray(imgcolor)\n",
    "    \n",
    "    # g(I)\n",
    "    gI = morphsnakes.gborders(img, alpha=alpha, sigma=sigma)\n",
    "    \n",
    "    # Morphological GAC. Initialization of the level-set.\n",
    "    mgac = morphsnakes.MorphGAC(gI, smoothing=2, threshold=0.3, balloon=-1)\n",
    "    # sqrt(radius) = 135\n",
    "    # center = (163, 137)\n",
    "    mgac.levelset = circle_levelset(img.shape, (163, 137), 135, scalerow=0.75)\n",
    "    \n",
    "    # Visual evolution.\n",
    "    ppl.figure(fig)\n",
    "    #ppl.title(\"alpha\")\n",
    "    #ppl.title(\"alpha=%i\" % alpha)\n",
    "    morphsnakes.evolve_visual(mgac, num_iters=110, background=imgcolor)\n",
    "    \n",
    "if __name__ == '__main__':\n",
    "    print(\"\"\"\"\"\")\n",
    "    test_starfish()\n",
    "    #test_starfish(100,2,2)\n",
    "    #ppl.title(\"alpha\")\n",
    "    ppl.show()\n",
    "    "
   ]
  },
  {
   "cell_type": "code",
   "execution_count": null,
   "metadata": {
    "collapsed": true
   },
   "outputs": [],
   "source": []
  }
 ],
 "metadata": {
  "kernelspec": {
   "display_name": "Python 2",
   "language": "python",
   "name": "python2"
  },
  "language_info": {
   "codemirror_mode": {
    "name": "ipython",
    "version": 2
   },
   "file_extension": ".py",
   "mimetype": "text/x-python",
   "name": "python",
   "nbconvert_exporter": "python",
   "pygments_lexer": "ipython2",
   "version": "2.7.6"
  }
 },
 "nbformat": 4,
 "nbformat_minor": 0
}
